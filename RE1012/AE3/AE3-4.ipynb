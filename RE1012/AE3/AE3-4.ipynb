{
 "cells": [
  {
   "cell_type": "markdown",
   "metadata": {},
   "source": [
    "# AE 2 - Network 3\n",
    "\n",
    "To save you some work, here is the matrix for Network 3, i.e.\n",
    "$$M=\\begin{bmatrix}\n",
    "0 & 1/2 & 1/2 & 1/2 & 0 & 0\\\\\n",
    "1/2 & 0 & 1/2 & 0 & 0 & 0\\\\\n",
    "1/2 & 1/2 & 0 & 0 & 0 & 0\\\\\n",
    "0 & 0 & 0 & 0 & 0 & 0 \\\\\n",
    "0 & 0 & 0 & 1/2 & 0 & 1\\\\\n",
    "0 & 0 & 0 & 0 & 1 & 0\n",
    "\\end{bmatrix}.$$"
   ]
  },
  {
   "cell_type": "code",
   "execution_count": 4,
   "metadata": {},
   "outputs": [
    {
     "name": "stdout",
     "output_type": "stream",
     "text": [
      "[[0.  0.5 0.5 0.5 0.  0. ]\n",
      " [0.5 0.  0.5 0.  0.  0. ]\n",
      " [0.5 0.5 0.  0.  0.  0. ]\n",
      " [0.  0.  0.  0.  0.  0. ]\n",
      " [0.  0.  0.  0.5 0.  1. ]\n",
      " [0.  0.  0.  0.  1.  0. ]]\n"
     ]
    }
   ],
   "source": [
    "import numpy as np\n",
    "M = np.array([[0,0.5,0.5,0.5,0,0],[0.5,0,0.5,0,0,0],[0.5,0.5,0,0,0,0],[0,0,0,0,0,0],[0,0,0,0.5,0,1],[0,0,0,0,1,0]])\n",
    "print(M)"
   ]
  },
  {
   "cell_type": "code",
   "execution_count": 13,
   "metadata": {},
   "outputs": [
    {
     "data": {
      "text/plain": [
       "array([[0.34375 , 0.328125, 0.328125, 0.15625 , 0.      , 0.      ],\n",
       "       [0.328125, 0.34375 , 0.328125, 0.171875, 0.      , 0.      ],\n",
       "       [0.328125, 0.328125, 0.34375 , 0.171875, 0.      , 0.      ],\n",
       "       [0.      , 0.      , 0.      , 0.      , 0.      , 0.      ],\n",
       "       [0.      , 0.      , 0.      , 0.      , 1.      , 0.      ],\n",
       "       [0.      , 0.      , 0.      , 0.5     , 0.      , 1.      ]])"
      ]
     },
     "execution_count": 13,
     "metadata": {},
     "output_type": "execute_result"
    }
   ],
   "source": [
    "np.linalg.matrix_power(M,6)"
   ]
  },
  {
   "cell_type": "markdown",
   "metadata": {},
   "source": [
    "As usual, you might want to experiment with some random surfers, such as"
   ]
  },
  {
   "cell_type": "code",
   "execution_count": 65,
   "metadata": {},
   "outputs": [],
   "source": [
    "p = np.array([[100],[100],[100],[100],[100],[100]])"
   ]
  },
  {
   "cell_type": "markdown",
   "metadata": {},
   "source": [
    "and see what happens when you repeat the formula:"
   ]
  },
  {
   "cell_type": "code",
   "execution_count": 64,
   "metadata": {},
   "outputs": [
    {
     "name": "stdout",
     "output_type": "stream",
     "text": [
      "[[350.00000037]\n",
      " [349.99999981]\n",
      " [349.99999981]\n",
      " [  0.        ]\n",
      " [450.        ]\n",
      " [300.        ]]\n"
     ]
    }
   ],
   "source": [
    "p = np.matmul(M,p)\n",
    "print(p)"
   ]
  },
  {
   "cell_type": "markdown",
   "metadata": {},
   "source": [
    "And you might be interested in eigenvectors with eigenvalue 1."
   ]
  },
  {
   "cell_type": "code",
   "execution_count": 14,
   "metadata": {},
   "outputs": [],
   "source": [
    "l,P = np.linalg.eig(M)"
   ]
  },
  {
   "cell_type": "code",
   "execution_count": 15,
   "metadata": {},
   "outputs": [
    {
     "name": "stdout",
     "output_type": "stream",
     "text": [
      "[-0.5  1.  -0.5  1.  -1.   0. ]\n"
     ]
    }
   ],
   "source": [
    "print(np.round(l,2))"
   ]
  },
  {
   "cell_type": "code",
   "execution_count": 16,
   "metadata": {},
   "outputs": [
    {
     "name": "stdout",
     "output_type": "stream",
     "text": [
      "[[-0.82  0.58  0.19  0.    0.    0.35]\n",
      " [ 0.41  0.58 -0.78  0.    0.   -0.35]\n",
      " [ 0.41  0.58  0.59  0.    0.   -0.35]\n",
      " [ 0.    0.    0.    0.    0.    0.71]\n",
      " [ 0.    0.    0.    0.71  0.71  0.  ]\n",
      " [ 0.    0.    0.    0.71 -0.71 -0.35]]\n"
     ]
    }
   ],
   "source": [
    "print(np.round(P,2))"
   ]
  },
  {
   "cell_type": "markdown",
   "metadata": {},
   "source": [
    "For the second part of this exercise (involving the Google matrix), the following matrix might be useful:"
   ]
  },
  {
   "cell_type": "code",
   "execution_count": 66,
   "metadata": {},
   "outputs": [
    {
     "name": "stdout",
     "output_type": "stream",
     "text": [
      "[[0.16666667 0.16666667 0.16666667 0.16666667 0.16666667 0.16666667]\n",
      " [0.16666667 0.16666667 0.16666667 0.16666667 0.16666667 0.16666667]\n",
      " [0.16666667 0.16666667 0.16666667 0.16666667 0.16666667 0.16666667]\n",
      " [0.16666667 0.16666667 0.16666667 0.16666667 0.16666667 0.16666667]\n",
      " [0.16666667 0.16666667 0.16666667 0.16666667 0.16666667 0.16666667]\n",
      " [0.16666667 0.16666667 0.16666667 0.16666667 0.16666667 0.16666667]]\n"
     ]
    }
   ],
   "source": [
    "V = 1/6*np.ones((6,6))\n",
    "print(V)"
   ]
  },
  {
   "cell_type": "markdown",
   "metadata": {},
   "source": [
    "The last calculations, you can do yourself:"
   ]
  },
  {
   "cell_type": "code",
   "execution_count": 84,
   "metadata": {},
   "outputs": [
    {
     "name": "stdout",
     "output_type": "stream",
     "text": [
      "[[0.025 0.45  0.45  0.45  0.025 0.025]\n",
      " [0.45  0.025 0.45  0.025 0.025 0.025]\n",
      " [0.45  0.45  0.025 0.025 0.025 0.025]\n",
      " [0.025 0.025 0.025 0.025 0.025 0.025]\n",
      " [0.025 0.025 0.025 0.45  0.025 0.875]\n",
      " [0.025 0.025 0.025 0.025 0.875 0.025]]\n"
     ]
    }
   ],
   "source": [
    "G = 0.15*V + 0.85*M\n",
    "print(G)"
   ]
  },
  {
   "cell_type": "code",
   "execution_count": 85,
   "metadata": {},
   "outputs": [
    {
     "data": {
      "text/plain": [
       "array([[0.25162798, 0.24573502, 0.24573502, 0.18091245, 0.12198283,\n",
       "        0.12198283],\n",
       "       [0.23817549, 0.24406845, 0.23817549, 0.17924588, 0.11442331,\n",
       "        0.11442331],\n",
       "       [0.23817549, 0.23817549, 0.24406845, 0.17924588, 0.11442331,\n",
       "        0.11442331],\n",
       "       [0.025     , 0.025     , 0.025     , 0.025     , 0.025     ,\n",
       "        0.025     ],\n",
       "       [0.12765629, 0.12765629, 0.12765629, 0.12765629, 0.50480581,\n",
       "        0.12765629],\n",
       "       [0.11936474, 0.11936474, 0.11936474, 0.3079395 , 0.11936474,\n",
       "        0.49651426]])"
      ]
     },
     "execution_count": 85,
     "metadata": {},
     "output_type": "execute_result"
    }
   ],
   "source": [
    "np.linalg.matrix_power(G,6)"
   ]
  },
  {
   "cell_type": "code",
   "execution_count": 87,
   "metadata": {},
   "outputs": [
    {
     "name": "stdout",
     "output_type": "stream",
     "text": [
      "[ 1.    0.85 -0.   -0.85 -0.43 -0.43]\n"
     ]
    }
   ],
   "source": [
    "print(np.round(l,2))"
   ]
  },
  {
   "cell_type": "code",
   "execution_count": 88,
   "metadata": {},
   "outputs": [
    {
     "name": "stdout",
     "output_type": "stream",
     "text": [
      "[[-0.45  0.37  0.35 -0.   -0.82 -0.31]\n",
      " [-0.43  0.37 -0.35  0.    0.41 -0.5 ]\n",
      " [-0.43  0.37 -0.35 -0.    0.41  0.81]\n",
      " [-0.06 -0.    0.71  0.   -0.   -0.  ]\n",
      " [-0.47 -0.55  0.   -0.71 -0.    0.  ]\n",
      " [-0.46 -0.55 -0.35  0.71 -0.   -0.  ]]\n"
     ]
    }
   ],
   "source": [
    "print(np.round(P,2))"
   ]
  },
  {
   "cell_type": "code",
   "execution_count": 82,
   "metadata": {},
   "outputs": [
    {
     "name": "stdout",
     "output_type": "stream",
     "text": [
      "[[0.  ]\n",
      " [0.  ]\n",
      " [0.  ]\n",
      " [0.  ]\n",
      " [0.71]\n",
      " [0.71]]\n"
     ]
    }
   ],
   "source": [
    "O = np.matmul(M,O)\n",
    "print(O)"
   ]
  },
  {
   "cell_type": "code",
   "execution_count": null,
   "metadata": {},
   "outputs": [],
   "source": []
  }
 ],
 "metadata": {
  "kernelspec": {
   "display_name": "Python 3 (ipykernel)",
   "language": "python",
   "name": "python3"
  },
  "language_info": {
   "codemirror_mode": {
    "name": "ipython",
    "version": 3
   },
   "file_extension": ".py",
   "mimetype": "text/x-python",
   "name": "python",
   "nbconvert_exporter": "python",
   "pygments_lexer": "ipython3",
   "version": "3.9.0"
  }
 },
 "nbformat": 4,
 "nbformat_minor": 2
}
