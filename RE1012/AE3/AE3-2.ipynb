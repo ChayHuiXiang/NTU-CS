{
 "cells": [
  {
   "cell_type": "markdown",
   "metadata": {},
   "source": [
    "# AE 2 - Network 1\n",
    "\n",
    "To save you some work, here is the matrix $M$ from the first exercise."
   ]
  },
  {
   "cell_type": "code",
   "execution_count": 188,
   "metadata": {},
   "outputs": [],
   "source": [
    "import numpy as np\n",
    "M = np.array([[0,1/3,1,1/2,0],[1/3,0,0,0,0],[0,1/3,0,0,1],[1/3,0,0,0,0],[1/3,1/3,0,1/2,0]])"
   ]
  },
  {
   "cell_type": "markdown",
   "metadata": {},
   "source": [
    "If you want to calculate an integer power of $M$ you can do it like this. Below we have calculated $M^2$:"
   ]
  },
  {
   "cell_type": "code",
   "execution_count": 192,
   "metadata": {},
   "outputs": [
    {
     "data": {
      "text/plain": [
       "array([[0.37328532, 0.34876543, 0.24691358, 0.34567901, 0.35493827],\n",
       "       [0.08230453, 0.1196845 , 0.11831276, 0.10545267, 0.14814815],\n",
       "       [0.28120713, 0.22530864, 0.27469136, 0.27623457, 0.12345679],\n",
       "       [0.08230453, 0.1196845 , 0.11831276, 0.10545267, 0.14814815],\n",
       "       [0.18089849, 0.18655693, 0.24176955, 0.16718107, 0.22530864]])"
      ]
     },
     "execution_count": 192,
     "metadata": {},
     "output_type": "execute_result"
    }
   ],
   "source": [
    "np.linalg.matrix_power(M,6)"
   ]
  },
  {
   "cell_type": "markdown",
   "metadata": {},
   "source": [
    "If you want to experiment with some random surfers, you can start with some initial population, e.g."
   ]
  },
  {
   "cell_type": "code",
   "execution_count": 171,
   "metadata": {},
   "outputs": [],
   "source": [
    "p = np.array([[400],[100],[100],[100],[100]])"
   ]
  },
  {
   "cell_type": "markdown",
   "metadata": {},
   "source": [
    "(Please feel free to try some other initial `p`).\n",
    "\n",
    "Then you can calculate the recursive sequence $\\mathbf{p}_j=M\\mathbf{p}_{j-1}$, simply by repeatedly running the cell below, over and over, and observe how its output changes (and how it converges)."
   ]
  },
  {
   "cell_type": "code",
   "execution_count": 179,
   "metadata": {},
   "outputs": [
    {
     "name": "stdout",
     "output_type": "stream",
     "text": [
      "[[259.28593202]\n",
      " [ 90.28444597]\n",
      " [192.37635269]\n",
      " [ 90.28444597]\n",
      " [167.76882335]]\n"
     ]
    }
   ],
   "source": [
    "p = np.matmul(M,p)\n",
    "print(p)"
   ]
  },
  {
   "cell_type": "markdown",
   "metadata": {},
   "source": [
    "Alternatively (or both) you might alse want to calculate the eigenvectors of $M$ with eigenvalue 1. To get the eigenvalues and eigenvectors we can run"
   ]
  },
  {
   "cell_type": "code",
   "execution_count": 18,
   "metadata": {
    "scrolled": false
   },
   "outputs": [
    {
     "name": "stdout",
     "output_type": "stream",
     "text": [
      "Eigenvalues = \n",
      " [ 1.  +0.j   -0.21+0.66j -0.21-0.66j -0.58+0.j   -0.  +0.j  ] \n",
      "\n",
      "Corresponging basis vectors for eigenspace = \n",
      " [[-0.69+0.j   -0.05-0.58j -0.05+0.58j -0.76+0.j   -0.  +0.j  ]\n",
      " [-0.23+0.j   -0.26+0.11j -0.26-0.11j  0.44+0.j   -0.8 +0.j  ]\n",
      " [-0.5 +0.j    0.61+0.j    0.61-0.j    0.08+0.j   -0.  +0.j  ]\n",
      " [-0.23+0.j   -0.26+0.11j -0.26-0.11j  0.44+0.j    0.53+0.j  ]\n",
      " [-0.42+0.j   -0.04+0.37j -0.04-0.37j -0.19+0.j    0.27+0.j  ]]\n"
     ]
    }
   ],
   "source": [
    "l,P = np.linalg.eig(M)\n",
    "print(\"Eigenvalues = \\n\",np.round(l,2),\"\\n\")\n",
    "print(\"Corresponging basis vectors for eigenspace = \\n\",np.round(P,2))"
   ]
  },
  {
   "cell_type": "markdown",
   "metadata": {},
   "source": [
    "The above tells us that the eigenspace associated with the eigenvalue 1 is:\n",
    "\n",
    "$$\\mathbf{x}\\approx t(0.69,0.23,0.5,0.23,0.42),\\quad t\\in\\mathbb{R}.$$\n",
    "\n",
    "(we could multiply the given basis vector with -1, because anyway the eigenspace consists of all *multiples* of the same vector)."
   ]
  },
  {
   "cell_type": "code",
   "execution_count": 116,
   "metadata": {},
   "outputs": [],
   "source": [
    "N = np.array([[-0.69],[-0.23],[-0.5],[-0.23],[-0.42]])"
   ]
  },
  {
   "cell_type": "code",
   "execution_count": 180,
   "metadata": {},
   "outputs": [],
   "source": [
    "a = a/sum(a)"
   ]
  },
  {
   "cell_type": "code",
   "execution_count": 184,
   "metadata": {},
   "outputs": [],
   "source": [
    "a = 200*a"
   ]
  },
  {
   "cell_type": "code",
   "execution_count": 185,
   "metadata": {},
   "outputs": [
    {
     "data": {
      "text/plain": [
       "array([[33413.84863124],\n",
       "       [11111.11111111],\n",
       "       [23993.55877617],\n",
       "       [11111.11111111],\n",
       "       [20370.37037037]])"
      ]
     },
     "execution_count": 185,
     "metadata": {},
     "output_type": "execute_result"
    }
   ],
   "source": [
    "a"
   ]
  },
  {
   "cell_type": "code",
   "execution_count": null,
   "metadata": {},
   "outputs": [],
   "source": []
  }
 ],
 "metadata": {
  "kernelspec": {
   "display_name": "Python 3 (ipykernel)",
   "language": "python",
   "name": "python3"
  },
  "language_info": {
   "codemirror_mode": {
    "name": "ipython",
    "version": 3
   },
   "file_extension": ".py",
   "mimetype": "text/x-python",
   "name": "python",
   "nbconvert_exporter": "python",
   "pygments_lexer": "ipython3",
   "version": "3.9.0"
  }
 },
 "nbformat": 4,
 "nbformat_minor": 2
}
