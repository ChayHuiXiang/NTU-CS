{
 "cells": [
  {
   "cell_type": "code",
   "execution_count": 1,
   "id": "f6b27c58",
   "metadata": {},
   "outputs": [],
   "source": [
    "import numpy as np"
   ]
  },
  {
   "cell_type": "code",
   "execution_count": 2,
   "id": "cdf9d55b",
   "metadata": {},
   "outputs": [
    {
     "name": "stdout",
     "output_type": "stream",
     "text": [
      "M=\n",
      " [[0.         0.33333333 1.         0.5        0.        ]\n",
      " [0.33333333 0.         0.         0.         0.        ]\n",
      " [0.         0.33333333 0.         0.         1.        ]\n",
      " [0.33333333 0.         0.         0.         0.        ]\n",
      " [0.33333333 0.33333333 0.         0.5        0.        ]]\n",
      "p=\n",
      " [[100]\n",
      " [100]\n",
      " [100]\n",
      " [100]\n",
      " [100]]\n"
     ]
    }
   ],
   "source": [
    "M = np.array([[0,1/3,1,1/2,0],[1/3,0,0,0,0],[0,1/3,0,0,1],[1/3,0,0,0,0],[1/3,1/3,0,1/2,0]])\n",
    "p = np.array([[100],[100],[100],[100],[100]])\n",
    "print(\"M=\\n\",M)\n",
    "print(\"p=\\n\",p)"
   ]
  },
  {
   "cell_type": "code",
   "execution_count": 13,
   "id": "91de3213",
   "metadata": {},
   "outputs": [
    {
     "name": "stdout",
     "output_type": "stream",
     "text": [
      "[[165.67882183]\n",
      " [ 55.3050221 ]\n",
      " [122.02884469]\n",
      " [ 55.3050221 ]\n",
      " [101.68228929]]\n"
     ]
    }
   ],
   "source": [
    "p = M@p\n",
    "print(p)"
   ]
  },
  {
   "cell_type": "code",
   "execution_count": 15,
   "id": "c20838bf",
   "metadata": {},
   "outputs": [],
   "source": [
    "l,P = np.linalg.eig(M)"
   ]
  },
  {
   "cell_type": "code",
   "execution_count": 16,
   "id": "3a33e670",
   "metadata": {},
   "outputs": [
    {
     "data": {
      "text/plain": [
       "array([ 1.00000000e+00+0.j        , -2.09845283e-01+0.65926989j,\n",
       "       -2.09845283e-01-0.65926989j, -5.80309435e-01+0.j        ,\n",
       "       -5.38991039e-18+0.j        ])"
      ]
     },
     "execution_count": 16,
     "metadata": {},
     "output_type": "execute_result"
    }
   ],
   "source": [
    "l"
   ]
  },
  {
   "cell_type": "code",
   "execution_count": 6,
   "id": "d13326b1",
   "metadata": {},
   "outputs": [
    {
     "data": {
      "text/plain": [
       "array([[-0.69+0.j  , -0.05-0.58j, -0.05+0.58j, -0.76+0.j  , -0.  +0.j  ],\n",
       "       [-0.23+0.j  , -0.26+0.11j, -0.26-0.11j,  0.44+0.j  , -0.8 +0.j  ],\n",
       "       [-0.5 +0.j  ,  0.61+0.j  ,  0.61-0.j  ,  0.08+0.j  , -0.  +0.j  ],\n",
       "       [-0.23+0.j  , -0.26+0.11j, -0.26-0.11j,  0.44+0.j  ,  0.53+0.j  ],\n",
       "       [-0.42+0.j  , -0.04+0.37j, -0.04-0.37j, -0.19+0.j  ,  0.27+0.j  ]])"
      ]
     },
     "execution_count": 6,
     "metadata": {},
     "output_type": "execute_result"
    }
   ],
   "source": [
    "np.round(P,2)"
   ]
  },
  {
   "cell_type": "code",
   "execution_count": null,
   "id": "8f4b9f7c",
   "metadata": {},
   "outputs": [],
   "source": [
    "x=P[:,0]"
   ]
  },
  {
   "cell_type": "code",
   "execution_count": null,
   "id": "33a281c2",
   "metadata": {},
   "outputs": [],
   "source": [
    "x = x/sum(x)"
   ]
  },
  {
   "cell_type": "code",
   "execution_count": null,
   "id": "506b0694",
   "metadata": {},
   "outputs": [],
   "source": [
    "500*x"
   ]
  },
  {
   "cell_type": "code",
   "execution_count": null,
   "id": "9aad42e5",
   "metadata": {},
   "outputs": [],
   "source": []
  }
 ],
 "metadata": {
  "kernelspec": {
   "display_name": "Python 3 (ipykernel)",
   "language": "python",
   "name": "python3"
  },
  "language_info": {
   "codemirror_mode": {
    "name": "ipython",
    "version": 3
   },
   "file_extension": ".py",
   "mimetype": "text/x-python",
   "name": "python",
   "nbconvert_exporter": "python",
   "pygments_lexer": "ipython3",
   "version": "3.9.0"
  }
 },
 "nbformat": 4,
 "nbformat_minor": 5
}
