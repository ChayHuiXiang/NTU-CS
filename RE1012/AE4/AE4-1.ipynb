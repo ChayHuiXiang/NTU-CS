{
 "cells": [
  {
   "cell_type": "markdown",
   "metadata": {},
   "source": [
    "# Numerical integration in Python\n",
    "\n",
    "The programming tasks in the next Application Exercise will require that you can evaluate (numerical) integrals in Python. This is rather straightforward, using the `quad()` function from the `scipy.integrate` package. \n",
    "\n",
    "Let's illustrate this with a simple example. You can easily evaluate\n",
    "$$\\int_0^1 x^2\\,dx=\\left[\\frac{x^3}{3}\\right]_0^1=\\frac{1}{3}.$$\n",
    "Next, let us use Python to calculate a numerical approximation of the same integral. It can be done like this:"
   ]
  },
  {
   "cell_type": "code",
   "execution_count": 1,
   "metadata": {},
   "outputs": [
    {
     "name": "stdout",
     "output_type": "stream",
     "text": [
      "(0.33333333333333337, 3.700743415417189e-15)\n"
     ]
    }
   ],
   "source": [
    "# Import the quad() function from scipy.integrate\n",
    "from scipy.integrate import quad\n",
    "\n",
    "# Define the function we want to integrate\n",
    "def f(x) :\n",
    "    return x**2\n",
    "\n",
    "# Then integrate it from 0 to 1 and print the result.\n",
    "result = quad(f,0,1)\n",
    "print(result)"
   ]
  },
  {
   "cell_type": "markdown",
   "metadata": {},
   "source": [
    "The output which came out as \n",
    "`(0.33333333333333337, 3.700743415417189e-15)`. \n",
    "\n",
    "The `quad()` function returns a tuple whose *first* entry is the calculated value while the second entry is an upper bound of the absolute error. In other words, the above result should be interpreted as:\n",
    "$$\\int_0^1 x^2\\,dx=0.33333333333333337\\pm 3.700743415417189\\cdot 10^{-15}.$$\n",
    "\n",
    "If we are not interested in the error estimate or (more likely) need to extract the calculated value for further calculations, we can of course access it using indexing (remember that the first entry has index `0`):\n"
   ]
  },
  {
   "cell_type": "code",
   "execution_count": 2,
   "metadata": {},
   "outputs": [
    {
     "name": "stdout",
     "output_type": "stream",
     "text": [
      "0.33333333333333337\n"
     ]
    }
   ],
   "source": [
    "value = quad(f,0,1)[0]\n",
    "print(value)"
   ]
  },
  {
   "cell_type": "markdown",
   "metadata": {},
   "source": [
    "You can of course pass built in functions to `quad()` as well. Let's calculate\n",
    "$$\\int_0^\\pi \\sin{x}\\,dx\\quad:$$"
   ]
  },
  {
   "cell_type": "code",
   "execution_count": 3,
   "metadata": {},
   "outputs": [
    {
     "name": "stdout",
     "output_type": "stream",
     "text": [
      "2.0\n"
     ]
    }
   ],
   "source": [
    "import numpy as np\n",
    "\n",
    "value = quad(np.sin,0,np.pi)[0]\n",
    "print(value)"
   ]
  },
  {
   "cell_type": "markdown",
   "metadata": {},
   "source": [
    "## Anonymous functions\n",
    "In our example above, we defined the function `f` before we passed it to `quad`. This is what we did:"
   ]
  },
  {
   "cell_type": "code",
   "execution_count": 4,
   "metadata": {},
   "outputs": [
    {
     "name": "stdout",
     "output_type": "stream",
     "text": [
      "(0.33333333333333337, 3.700743415417189e-15)\n"
     ]
    }
   ],
   "source": [
    "def f(x) :\n",
    "    return x**2\n",
    "\n",
    "print(quad(f,0,1))"
   ]
  },
  {
   "cell_type": "markdown",
   "metadata": {},
   "source": [
    "Python also supports *anonymous functions* (called *lambda functions* in Python), which you can define on the fly as you provide them as argument to another function. To calculate the above integral using that method instead, we would do the following:"
   ]
  },
  {
   "cell_type": "code",
   "execution_count": 5,
   "metadata": {},
   "outputs": [
    {
     "name": "stdout",
     "output_type": "stream",
     "text": [
      "(0.33333333333333337, 3.700743415417189e-15)\n"
     ]
    }
   ],
   "source": [
    "print(quad(lambda x : x**2,0,1))"
   ]
  },
  {
   "cell_type": "markdown",
   "metadata": {},
   "source": [
    "The `lambda x: <expression in x>` notation, saves you a little bit of work when you want to pass a simple function as an argument to another function and don't have any need for that function elsewhere in your code. This method doesn't assign any name to the function, which is why we call it an \"anonymous\" function."
   ]
  },
  {
   "cell_type": "markdown",
   "metadata": {},
   "source": [
    "## Revision of `for`-loops\n",
    "\n",
    "Recall that `range(n)` will generate an iterable object containing the integers from `0` to `n-1`. This can be iterated over in a loop like this:"
   ]
  },
  {
   "cell_type": "code",
   "execution_count": 6,
   "metadata": {},
   "outputs": [
    {
     "name": "stdout",
     "output_type": "stream",
     "text": [
      "0\n",
      "1\n",
      "2\n",
      "3\n"
     ]
    }
   ],
   "source": [
    "for k in range(4) :\n",
    "    print(k)"
   ]
  },
  {
   "cell_type": "markdown",
   "metadata": {},
   "source": [
    "If `m` and `n` are integers $m<n$, `range(m,n)` will give you the integers from `m` to `n-1`, i,e."
   ]
  },
  {
   "cell_type": "code",
   "execution_count": 7,
   "metadata": {},
   "outputs": [
    {
     "name": "stdout",
     "output_type": "stream",
     "text": [
      "2\n",
      "3\n"
     ]
    }
   ],
   "source": [
    "for k in range(2,4) :\n",
    "    print(k)\n"
   ]
  },
  {
   "cell_type": "markdown",
   "metadata": {},
   "source": [
    "So, let's say we want to calculate the sum\n",
    "$$\\sum_{k=1}^3 \\int_0^1 x^k\\,dx.$$\n",
    "Note that the answer is\n",
    "$$\\int_0^1 x\\,dx+\\int_0^1 x^2\\,dx+\\int_0^1 x^3\\,dx=\\frac{1}{2}+\\frac{1}{3}+\\frac{1}{4}=\\frac{13}{12}.$$\n",
    "The following loop will do the trick:\n"
   ]
  },
  {
   "cell_type": "code",
   "execution_count": 8,
   "metadata": {},
   "outputs": [
    {
     "name": "stdout",
     "output_type": "stream",
     "text": [
      "1.0833333333333335\n"
     ]
    }
   ],
   "source": [
    "s = 0\n",
    "for k in range(1,4) :\n",
    "    s = s+quad(lambda x: x**k,0,1)[0]  \n",
    "    \n",
    "print(s)"
   ]
  },
  {
   "cell_type": "markdown",
   "metadata": {},
   "source": [
    "Note that we extracted the first entry (index zero) from the result of quad to access the actual value.\n",
    "\n",
    "### This should be all you need for the next AE, but feel free to experiment below:"
   ]
  },
  {
   "cell_type": "code",
   "execution_count": null,
   "metadata": {},
   "outputs": [],
   "source": [
    "def Fpoly(f, n, x):\n",
    "    T = ((1/np.pi)*quad(lambda t: f(t)*np.cos(0), -np.pi, np.pi)[0])/2\n",
    "    for i in range(n):\n",
    "        k = i+1\n",
    "        ak = (1/np.pi)*quad(lambda t: f(t)*np.cos(k*t),-np.pi,np.pi)[0]\n",
    "        bk = (1/np.pi)*quad(lambda t: f(t)*np.sin(k*t),-np.pi,np.pi)[0]\n",
    "        T = T + ak*np.cos(k*x) + bk*np.sin(k*x)\n",
    "    return T\n",
    "\n",
    "def Fpoly(f,n,x) :\n",
    "    # Supply the missing code such that the function follows the specifications.\n",
    "    T = ((1/np.pi) * quad(lambda t : f(t)*np.cos(0), -np.pi, np.pi)[0])/2   # Let T be the first term a0/2 (use quad to calculate the integral).\n",
    "    for k in range(1,n+1) :\n",
    "        ak = quad(lambda t : f(t)*np.cos(k*t),-np.pi,np.pi)[0]/np.pi # Coefficient a_k\n",
    "        bk = quad(lambda t : f(t)*np.sin(k*t),-np.pi,np.pi)[0]/np.pi # Coefficient b_k\n",
    "        T = T + ak*np.cos(k*x) + bk*np.sin(k*x)\n",
    "    return T"
   ]
  },
  {
   "cell_type": "code",
   "execution_count": null,
   "metadata": {},
   "outputs": [],
   "source": [
    "def Fpolyc(f,c,n,x):\n",
    "    T = ((1/c)*quad(lambda t: f(t)*np.cos((k*np.pi*t)/c),-c,c)[0])/2\n",
    "    for i in range(n):\n",
    "        k = i+1\n",
    "        ak = (1/c)*quad(lambda t: f(t)*np.cos((k*np.pi*t)/c),-c,c)[0]\n",
    "        bk = (1/c)*quad(lambda t: f(t)*np.sin((k*np.pi*t)/c),-c,c)[0]\n",
    "        T = T + ak*np.cos((k*np.pi*x)/c) + bk*np.sin((k*np.pi*x)/c)\n",
    "    return T\n",
    "\n",
    "def Fpolyc(f,c,n,x) :\n",
    "    # Supply the missing code such that the function follows the specifications.\n",
    "    T = ((1/np.pi) * quad(lambda t : f(t)*np.cos(0), -c, c)[0])/2   # Let T be the first term a0/2 (use quad to calculate the integral).\n",
    "    for k in range(1,n+1) :\n",
    "        ak = quad(lambda t : f(t)*np.cos((k*np.pi*t)/c),-c,c)[0]/c # Coefficient a_k\n",
    "        bk = quad(lambda t : f(t)*np.sin((k*np.pi*t)/c),-c,c)[0]/c # Coefficient b_k\n",
    "        T = T + ak*np.cos((k*np.pi*x)/c) + bk*np.sin((k*np.pi*x)/c)\n",
    "    return T"
   ]
  }
 ],
 "metadata": {
  "kernelspec": {
   "display_name": "Python 3 (ipykernel)",
   "language": "python",
   "name": "python3"
  },
  "language_info": {
   "codemirror_mode": {
    "name": "ipython",
    "version": 3
   },
   "file_extension": ".py",
   "mimetype": "text/x-python",
   "name": "python",
   "nbconvert_exporter": "python",
   "pygments_lexer": "ipython3",
   "version": "3.9.0"
  }
 },
 "nbformat": 4,
 "nbformat_minor": 2
}
