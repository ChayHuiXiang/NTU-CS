{
 "cells": [
  {
   "cell_type": "markdown",
   "id": "24e1bc7a",
   "metadata": {},
   "source": [
    "# Matrices is Python\n",
    "\n",
    "## Numpy arrays revision\n",
    "\n",
    "Do you remember how Numpy arrays work in Python? Here's a quick reminder:\n",
    " \n",
    "Having imported Numpy as `np` you can create a Numpy array with the `np.array` function."
   ]
  },
  {
   "cell_type": "code",
   "execution_count": 1,
   "id": "e0ff5a35",
   "metadata": {},
   "outputs": [],
   "source": [
    "import numpy as np\n",
    "x = np.array([10, 9, 8, 7])"
   ]
  },
  {
   "cell_type": "code",
   "execution_count": 2,
   "id": "c630e6e9",
   "metadata": {},
   "outputs": [
    {
     "name": "stdout",
     "output_type": "stream",
     "text": [
      "[10  9  8  7]\n"
     ]
    }
   ],
   "source": [
    "print(x)"
   ]
  },
  {
   "cell_type": "markdown",
   "id": "b6a111e3",
   "metadata": {},
   "source": [
    "Once created, you can access individual entries using brackets. Remember that the indexing starts from `0`, so for an array with `n` entries, the first entry will have index `0` and the last entry will have index `n-1`:"
   ]
  },
  {
   "cell_type": "code",
   "execution_count": 3,
   "id": "2112a24f",
   "metadata": {},
   "outputs": [
    {
     "name": "stdout",
     "output_type": "stream",
     "text": [
      "10\n",
      "9\n",
      "7\n"
     ]
    }
   ],
   "source": [
    "print(x[0])\n",
    "print(x[1])\n",
    "print(x[3])"
   ]
  },
  {
   "cell_type": "markdown",
   "id": "c143bec6",
   "metadata": {},
   "source": [
    "Indexing also works backwards, so you can (also) access the last entry with index -1, and so on."
   ]
  },
  {
   "cell_type": "code",
   "execution_count": 4,
   "id": "500bbb51",
   "metadata": {},
   "outputs": [
    {
     "name": "stdout",
     "output_type": "stream",
     "text": [
      "7\n",
      "8\n"
     ]
    }
   ],
   "source": [
    "print(x[-1])\n",
    "print(x[-2])"
   ]
  },
  {
   "cell_type": "markdown",
   "id": "b6a52be2",
   "metadata": {},
   "source": [
    "An important property of Numpy arrays is that we can use arithmetic operations on them. Like this:"
   ]
  },
  {
   "cell_type": "code",
   "execution_count": 5,
   "id": "68061bd7",
   "metadata": {},
   "outputs": [
    {
     "name": "stdout",
     "output_type": "stream",
     "text": [
      "[11 10  7  6]\n",
      "[ 2  2 -2 -2]\n",
      "[10  9 -8 -7]\n"
     ]
    }
   ],
   "source": [
    "x = np.array([10, 9, 8, 7])\n",
    "y = np.array([1, 1, -1, -1])\n",
    "print(x+y)\n",
    "print(2*y)\n",
    "print(x*y)"
   ]
  },
  {
   "cell_type": "markdown",
   "id": "bb0a71c1",
   "metadata": {},
   "source": [
    "Note that all arithmetic operations are done on the corresponding entries, e.g. the `k`th entry of `x*y` is the `k`th entry of `x` times the `k`th entry of `y`. Also, note that this is *not* how matrix multiplication works."
   ]
  },
  {
   "cell_type": "markdown",
   "id": "d9858069",
   "metadata": {},
   "source": [
    "## Matrices\n",
    "In Python, a matrix is simply an *array of arrays*. Each entry represents a row, which in itself is an array. So, to define the matrices\n",
    "$$A=\\begin{bmatrix}1 & 2 & 3\\\\ 4 & 5 & 6\\end{bmatrix},\\quad \n",
    "B=\\begin{bmatrix}1 & 1\\\\ -1 & -1\\end{bmatrix},\\quad\n",
    "C=\\begin{bmatrix}-1 & -2\\\\ -3 & -4\\end{bmatrix},$$\n",
    "we can do like this:"
   ]
  },
  {
   "cell_type": "code",
   "execution_count": 6,
   "id": "88e36750",
   "metadata": {},
   "outputs": [
    {
     "name": "stdout",
     "output_type": "stream",
     "text": [
      "[[1 2 3]\n",
      " [4 5 6]]\n",
      "[[ 1  1]\n",
      " [-1 -1]]\n",
      "[[-1 -2]\n",
      " [-3 -4]]\n"
     ]
    }
   ],
   "source": [
    "A = np.array([[1,2,3],[4,5,6]])\n",
    "B = np.array([[1,1],[-1,-1]])\n",
    "C = np.array([[-1,-2],[-3,-4]])\n",
    "print(A)\n",
    "print(B)\n",
    "print(C)"
   ]
  },
  {
   "cell_type": "markdown",
   "id": "71adcd2b",
   "metadata": {},
   "source": [
    "Note that for example the first entry of the array `A` is the *array* `[1,2,3]`.\n",
    "\n",
    "Now, if we think of `A` as a *matrix* and we want to access the entry of row $2$, colum $3$ of `A`, we could use the fact that it's the third entry of the second entry of `A`, i.e. (remembering that indexing starts from zero):"
   ]
  },
  {
   "cell_type": "code",
   "execution_count": 7,
   "id": "3d3a9d16",
   "metadata": {},
   "outputs": [
    {
     "data": {
      "text/plain": [
       "6"
      ]
     },
     "execution_count": 7,
     "metadata": {},
     "output_type": "execute_result"
    }
   ],
   "source": [
    "A[1][2]"
   ]
  },
  {
   "cell_type": "markdown",
   "id": "a3a3367b",
   "metadata": {},
   "source": [
    "Fortunately, Python also allows the slightly more intuitive notation:"
   ]
  },
  {
   "cell_type": "code",
   "execution_count": 8,
   "id": "8a60f58b",
   "metadata": {},
   "outputs": [
    {
     "data": {
      "text/plain": [
       "6"
      ]
     },
     "execution_count": 8,
     "metadata": {},
     "output_type": "execute_result"
    }
   ],
   "source": [
    "A[1,2]"
   ]
  },
  {
   "cell_type": "markdown",
   "id": "52a88dd3",
   "metadata": {},
   "source": [
    "We have seen above that for Numpy arrays, addition (`+`) of arrays and multiplication (`*`) with scalar works element-wise, so we can use these operations to calculate matrix sums and the product of a matrix with a scalar. \n",
    "Recall that we have already defined:\n",
    "$$A=\\begin{bmatrix}1 & 2 & 3\\\\ 4 & 5 & 6\\end{bmatrix},\\quad \n",
    "B=\\begin{bmatrix}1 & 1\\\\ -1 & -1\\end{bmatrix},\\quad\n",
    "C=\\begin{bmatrix}-1 & -2\\\\ -3 & -4\\end{bmatrix},$$\n",
    "so let's calculate $B+C$ and $2A$:"
   ]
  },
  {
   "cell_type": "code",
   "execution_count": 14,
   "id": "3f06dfd3",
   "metadata": {},
   "outputs": [
    {
     "name": "stdout",
     "output_type": "stream",
     "text": [
      "[[ 0 -1]\n",
      " [-4 -5]]\n",
      "[[ 2  4  6]\n",
      " [ 8 10 12]]\n"
     ]
    }
   ],
   "source": [
    "print(B+C)\n",
    "print(2*A)"
   ]
  },
  {
   "cell_type": "markdown",
   "id": "24db0fec",
   "metadata": {},
   "source": [
    "But with matrix multiplication we have to watch out. The `*` works-element wise, i.e:"
   ]
  },
  {
   "cell_type": "code",
   "execution_count": 10,
   "id": "69865801",
   "metadata": {},
   "outputs": [
    {
     "name": "stdout",
     "output_type": "stream",
     "text": [
      "B= [[ 1  1]\n",
      " [-1 -1]]\n",
      "C= [[-1 -2]\n",
      " [-3 -4]]\n",
      "The Python operation B*C, gives us the result:\n",
      "[[-1 -2]\n",
      " [ 3  4]]\n"
     ]
    }
   ],
   "source": [
    "print(\"B=\",B)\n",
    "print(\"C=\",C)\n",
    "print(\"The Python operation B*C, gives us the result:\")\n",
    "print(B*C)"
   ]
  },
  {
   "cell_type": "markdown",
   "id": "54666650",
   "metadata": {},
   "source": [
    "The result above is obained by multiplying each element of $B$ with the corresponding element of $C$ (please check) but that is *not* the matrix product $BC$.\n",
    "\n",
    "Instead, to evaluate a matrix product, there are a few ways:\n",
    "- You can use the `np.matmul()` function.\n",
    "- You can use the `@` operator.\n",
    "Both alternatives allow you to calculate matrix products, as illustrated below."
   ]
  },
  {
   "cell_type": "code",
   "execution_count": 11,
   "id": "9d42917e",
   "metadata": {},
   "outputs": [
    {
     "data": {
      "text/plain": [
       "array([[-4, -6],\n",
       "       [ 4,  6]])"
      ]
     },
     "execution_count": 11,
     "metadata": {},
     "output_type": "execute_result"
    }
   ],
   "source": [
    "np.matmul(B,C)"
   ]
  },
  {
   "cell_type": "code",
   "execution_count": 12,
   "id": "f85d9547",
   "metadata": {},
   "outputs": [
    {
     "data": {
      "text/plain": [
       "array([[-4, -6],\n",
       "       [ 4,  6]])"
      ]
     },
     "execution_count": 12,
     "metadata": {},
     "output_type": "execute_result"
    }
   ],
   "source": [
    "B @ C"
   ]
  },
  {
   "cell_type": "markdown",
   "id": "1c04b5e4",
   "metadata": {},
   "source": [
    "This is indeed the matrix product $BC$ (please check!).\n",
    "\n",
    "Let's try it some more. One of the following cells will produce an error. *Try to predict which one before running the cells*. "
   ]
  },
  {
   "cell_type": "code",
   "execution_count": 15,
   "id": "ad398a87",
   "metadata": {},
   "outputs": [
    {
     "ename": "ValueError",
     "evalue": "matmul: Input operand 1 has a mismatch in its core dimension 0, with gufunc signature (n?,k),(k,m?)->(n?,m?) (size 2 is different from 3)",
     "output_type": "error",
     "traceback": [
      "\u001b[1;31m---------------------------------------------------------------------------\u001b[0m",
      "\u001b[1;31mValueError\u001b[0m                                Traceback (most recent call last)",
      "\u001b[1;32mC:\\Users\\CHAYHU~1\\AppData\\Local\\Temp/ipykernel_14272/2301120001.py\u001b[0m in \u001b[0;36m<module>\u001b[1;34m\u001b[0m\n\u001b[1;32m----> 1\u001b[1;33m \u001b[0mA\u001b[0m\u001b[1;33m@\u001b[0m\u001b[0mB\u001b[0m\u001b[1;33m\u001b[0m\u001b[1;33m\u001b[0m\u001b[0m\n\u001b[0m",
      "\u001b[1;31mValueError\u001b[0m: matmul: Input operand 1 has a mismatch in its core dimension 0, with gufunc signature (n?,k),(k,m?)->(n?,m?) (size 2 is different from 3)"
     ]
    }
   ],
   "source": [
    "A@B"
   ]
  },
  {
   "cell_type": "code",
   "execution_count": 16,
   "id": "88c8585a",
   "metadata": {},
   "outputs": [
    {
     "data": {
      "text/plain": [
       "array([[ 5,  7,  9],\n",
       "       [-5, -7, -9]])"
      ]
     },
     "execution_count": 16,
     "metadata": {},
     "output_type": "execute_result"
    }
   ],
   "source": [
    "B@A"
   ]
  },
  {
   "cell_type": "code",
   "execution_count": 17,
   "id": "8f60e71d",
   "metadata": {},
   "outputs": [
    {
     "data": {
      "text/plain": [
       "array([[ 5,  7,  9],\n",
       "       [-5, -7, -9]])"
      ]
     },
     "execution_count": 17,
     "metadata": {},
     "output_type": "execute_result"
    }
   ],
   "source": [
    "np.matmul(B,A)"
   ]
  },
  {
   "cell_type": "code",
   "execution_count": null,
   "id": "b9aa996e",
   "metadata": {},
   "outputs": [],
   "source": []
  }
 ],
 "metadata": {
  "kernelspec": {
   "display_name": "Python 3 (ipykernel)",
   "language": "python",
   "name": "python3"
  },
  "language_info": {
   "codemirror_mode": {
    "name": "ipython",
    "version": 3
   },
   "file_extension": ".py",
   "mimetype": "text/x-python",
   "name": "python",
   "nbconvert_exporter": "python",
   "pygments_lexer": "ipython3",
   "version": "3.9.0"
  }
 },
 "nbformat": 4,
 "nbformat_minor": 5
}
