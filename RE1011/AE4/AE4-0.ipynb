{
 "cells": [
  {
   "cell_type": "markdown",
   "metadata": {},
   "source": [
    "# Solving a second order i.v.p. with `solve_ivp`."
   ]
  },
  {
   "cell_type": "markdown",
   "metadata": {},
   "source": [
    "In the preparation notebook, you learned how to use the function `solve_ivp` from the `scipy.integrate` package to find numeric solutions to a system of first order i.v.p.'s \n",
    "\n",
    "$$\\begin{cases}\n",
    "\\frac{du}{dt} &= f_1(t,u,v)\\\\\n",
    "\\frac{dv}{dt} &= f_2(t,u,v)\\\\\n",
    "u(t_0) &= u_0\\\\\n",
    "v(t_0) &= v_0\n",
    "\\end{cases}$$\n",
    "\n",
    "Let's import it (and the other stuff we usually need):"
   ]
  },
  {
   "cell_type": "code",
   "execution_count": 1,
   "metadata": {},
   "outputs": [],
   "source": [
    "import numpy as np\n",
    "import matplotlib.pyplot as plt\n",
    "from scipy.integrate import solve_ivp"
   ]
  },
  {
   "cell_type": "markdown",
   "metadata": {},
   "source": [
    "For, example, if the system of i.v.p.'s is\n",
    "\n",
    "$$\\begin{cases}\n",
    "\\frac{du}{dt} &= tuv,\\\\\n",
    "\\frac{dv}{dt} &= u,\\\\\n",
    "u(0) &= 1\\\\\n",
    "v(0) &= 2\n",
    "\\end{cases}$$\n",
    "\n",
    "and if we want to calculate a numerical solution on the interval $[0,1]$, with an output corresponding to 500 equally spaced $t$-values on this interval, we learned that the following code will do the trick:"
   ]
  },
  {
   "cell_type": "code",
   "execution_count": 2,
   "metadata": {},
   "outputs": [],
   "source": [
    "def F(t,Y) :\n",
    "    dudt = t*Y[0]*Y[1]\n",
    "    dvdt = Y[0]\n",
    "    return (dudt,dvdt)"
   ]
  },
  {
   "cell_type": "code",
   "execution_count": 3,
   "metadata": {},
   "outputs": [
    {
     "data": {
      "image/png": "[encoded data removed]",
      "text/plain": [
       "<Figure size 432x288 with 1 Axes>"
      ]
     },
     "metadata": {
      "needs_background": "light"
     },
     "output_type": "display_data"
    }
   ],
   "source": [
    "t = np.linspace(0,1,500)\n",
    "sol = solve_ivp(F,[0,1],[1,2],t_eval=t)\n",
    "\n",
    "plt.plot(sol.t,sol.y[0],'b',label=r'$u(t)$')\n",
    "plt.plot(sol.t,sol.y[1],'r',label=r'$v(t)$')\n",
    "plt.legend()\n",
    "plt.show()"
   ]
  },
  {
   "cell_type": "markdown",
   "metadata": {},
   "source": [
    "## Exercise\n",
    "\n",
    "In the previous exercise you saw that the second order initial value problem\n",
    "\n",
    "$$y''+\\frac{c}{m}y'+\\frac{k}{m}y=f(t),\\quad y(0)=y_0,\\quad y'(0)=v_0,$$\n",
    "\n",
    "can, by setting $v=y'$, be rewritten into the system\n",
    "\n",
    "$$\\begin{cases}\n",
    "\\frac{dy}{dt} &= v,\\\\\n",
    "\\frac{dv}{dt} &= f(t)-\\frac{c}{m}v-\\frac{k}{m}y,\\\\\n",
    "y(0) &= y_0,\\\\\n",
    "v(0) &= v_0.\n",
    "\\end{cases}$$\n",
    "\n",
    "Set $m=k=1$, $c=2$, $y_0=v_0=0$ and let\n",
    "$$f(t)=\\begin{cases}\n",
    "1 & \\text{ for }t\\leq 1,\\\\\n",
    "0 & \\text{ for }t> 1.\n",
    "\\end{cases}$$\n",
    "\n",
    "Use the `solve_ivp` function to find a numerical solution to this i.v.p. Tell `solve_ivp` to provide values for 1000 equally distributed points `t` from $0$ to $5$.\n",
    "\n",
    "To help you, the function $f$ above can be implemented as below:"
   ]
  },
  {
   "cell_type": "code",
   "execution_count": 5,
   "metadata": {},
   "outputs": [],
   "source": [
    "def f(t) :\n",
    "    if t<=1 :\n",
    "        u = 1\n",
    "    else :\n",
    "        u = 0\n",
    "    return u\n",
    "\n",
    "def F(t,Y):\n",
    "    dydt = Y[1]\n",
    "    dvdt = f(t)-2*Y[1]-Y[0]\n",
    "    return (dydt,dvdt)"
   ]
  },
  {
   "cell_type": "markdown",
   "metadata": {},
   "source": [
    "## To submit in LAMS\n",
    "Plot the graph of the solution $y(t)$ for $t\\in [0,5]$ using 1000 points. Submit the plot in LAMS. Your plot should **only** contain the graph of $y(t)$. It should **not** contain the graph of $y'(t)$.\n",
    "\n",
    "You know that the i.v.p. describes a damped oscillator, released from rest ($v_0=0$) with no initial displacement ($y_0=0$) but affected by a unit external force from $t=0$ to $t=1$, after which there is no external force on the system. With this knowledge, you should be able to judge whether or not your plot makes sense."
   ]
  },
  {
   "cell_type": "code",
   "execution_count": 6,
   "metadata": {},
   "outputs": [
    {
     "data": {
      "image/png": "[encoded data removed]",
      "text/plain": [
       "<Figure size 432x288 with 1 Axes>"
      ]
     },
     "metadata": {
      "needs_background": "light"
     },
     "output_type": "display_data"
    }
   ],
   "source": [
    "t = np.linspace(0,5,1000)\n",
    "sol = solve_ivp(F,[0,5],[0,0],t_eval=t)\n",
    "\n",
    "plt.plot(sol.t,sol.y[0],'b',label=r'$y(t)$')\n",
    "\n",
    "plt.legend()\n",
    "plt.show()"
   ]
  },
  {
   "cell_type": "code",
   "execution_count": null,
   "metadata": {},
   "outputs": [],
   "source": []
  }
 ],
 "metadata": {
  "kernelspec": {
   "display_name": "Python 3 (ipykernel)",
   "language": "python",
   "name": "python3"
  },
  "language_info": {
   "codemirror_mode": {
    "name": "ipython",
    "version": 3
   },
   "file_extension": ".py",
   "mimetype": "text/x-python",
   "name": "python",
   "nbconvert_exporter": "python",
   "pygments_lexer": "ipython3",
   "version": "3.9.0"
  }
 },
 "nbformat": 4,
 "nbformat_minor": 2
}
