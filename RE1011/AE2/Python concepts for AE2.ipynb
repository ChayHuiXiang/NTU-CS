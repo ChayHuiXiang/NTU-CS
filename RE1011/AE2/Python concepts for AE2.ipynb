{
 "cells": [
  {
   "cell_type": "markdown",
   "metadata": {},
   "source": [
    "# Importing function libraries in Python\n",
    "\n",
    "Recall from our introduction, that there seems to be no `sin` function built into Python, i.e. running the following cell returns an error:"
   ]
  },
  {
   "cell_type": "code",
   "execution_count": null,
   "metadata": {},
   "outputs": [],
   "source": [
    "sin(1)"
   ]
  },
  {
   "cell_type": "markdown",
   "metadata": {},
   "source": [
    "Fortunately things are not that bad. There are many mathematical functions available, but most of them are located in function libraries that you'll have to import as needed. Try running the cell below: "
   ]
  },
  {
   "cell_type": "code",
   "execution_count": null,
   "metadata": {},
   "outputs": [],
   "source": [
    "import numpy as np"
   ]
  },
  {
   "cell_type": "markdown",
   "metadata": {},
   "source": [
    "Then run the following cell:"
   ]
  },
  {
   "cell_type": "code",
   "execution_count": null,
   "metadata": {},
   "outputs": [],
   "source": [
    "print(np.sin(1))\n",
    "print(np.exp(1))"
   ]
  },
  {
   "cell_type": "markdown",
   "metadata": {},
   "source": [
    "The first cell above, i.e. `import numpy as np` imports the function library NumPy (which contains many basic numerical tools, such as trigonometric and exponential functions) and makes them available as `np.function_name`.\n",
    "\n",
    "For example (as seen above), we can now access the $\\sin$ function as `np.sin` and the exponential function as `np.exp`.\n",
    "\n",
    "You can also get (a good approximation of) $\\pi$:"
   ]
  },
  {
   "cell_type": "code",
   "execution_count": null,
   "metadata": {},
   "outputs": [],
   "source": [
    "np.pi"
   ]
  },
  {
   "cell_type": "markdown",
   "metadata": {},
   "source": [
    "In case you're wondering: The precision is higher than the number of printed decimals suggest."
   ]
  },
  {
   "cell_type": "code",
   "execution_count": null,
   "metadata": {},
   "outputs": [],
   "source": [
    "np.cos(np.pi)"
   ]
  },
  {
   "cell_type": "markdown",
   "metadata": {},
   "source": [
    "## Lists and Numpy arrays\n",
    "\n",
    "It will be important for us to work with arrays (i.e. lists) of numbers."
   ]
  },
  {
   "cell_type": "markdown",
   "metadata": {},
   "source": [
    "### Lists\n",
    "Python provides a basic list type that you can create using square brackets. Try running the following cells and see what happens."
   ]
  },
  {
   "cell_type": "code",
   "execution_count": null,
   "metadata": {},
   "outputs": [],
   "source": [
    "a = [1,2,3]\n",
    "b = [4,5,6]"
   ]
  },
  {
   "cell_type": "code",
   "execution_count": null,
   "metadata": {
    "scrolled": true
   },
   "outputs": [],
   "source": [
    "a"
   ]
  },
  {
   "cell_type": "code",
   "execution_count": null,
   "metadata": {},
   "outputs": [],
   "source": [
    "b"
   ]
  },
  {
   "cell_type": "markdown",
   "metadata": {},
   "source": [
    "You can access individual elements of a list by using an index inside square brackets:"
   ]
  },
  {
   "cell_type": "code",
   "execution_count": null,
   "metadata": {
    "scrolled": true
   },
   "outputs": [],
   "source": [
    "print(a[0])\n",
    "print(a[2])\n",
    "print(b[1])"
   ]
  },
  {
   "cell_type": "markdown",
   "metadata": {},
   "source": [
    "#### Note 1\n",
    "As you see above *indexing starts at zero*, i.e. the first element of the list `a` is `a[0]`, the third element of `a` is `a[2]` etc."
   ]
  },
  {
   "cell_type": "markdown",
   "metadata": {},
   "source": [
    "#### Note 2\n",
    "You can also count your index backwards, which gives you a convenient way of accessing the last element of a list. E.g.:"
   ]
  },
  {
   "cell_type": "code",
   "execution_count": null,
   "metadata": {},
   "outputs": [],
   "source": [
    "a[-1]"
   ]
  },
  {
   "cell_type": "code",
   "execution_count": null,
   "metadata": {},
   "outputs": [],
   "source": [
    "a[-2]"
   ]
  },
  {
   "cell_type": "markdown",
   "metadata": {},
   "source": [
    "Your index must however stay within a certain range. For a list of length 3, you can only use an index between -3 and 2 (including those). `a[3]` or `a[-4]` will generate errors:"
   ]
  },
  {
   "cell_type": "code",
   "execution_count": null,
   "metadata": {},
   "outputs": [],
   "source": [
    "a[3]"
   ]
  },
  {
   "cell_type": "markdown",
   "metadata": {},
   "source": [
    "#### Note 3\n",
    "A list does not have to contain numerical entries. It can contain other data types, for example other lists or strings (a *string* is essentially a list of symbols bounded by `\"` or `'` quotes). \n",
    "\n",
    "Run each cell below, but try to guess what the result should be before running it."
   ]
  },
  {
   "cell_type": "code",
   "execution_count": null,
   "metadata": {},
   "outputs": [],
   "source": [
    "Simpsons = ['Homer','Marge','Bart','Lisa','Maggie']"
   ]
  },
  {
   "cell_type": "code",
   "execution_count": null,
   "metadata": {},
   "outputs": [],
   "source": [
    "Simpsons[0]"
   ]
  },
  {
   "cell_type": "code",
   "execution_count": null,
   "metadata": {},
   "outputs": [],
   "source": [
    "Simpsons[3]"
   ]
  },
  {
   "cell_type": "code",
   "execution_count": null,
   "metadata": {},
   "outputs": [],
   "source": [
    "nest = [[1,2,3],[4,5,6]]"
   ]
  },
  {
   "cell_type": "code",
   "execution_count": null,
   "metadata": {},
   "outputs": [],
   "source": [
    "nest"
   ]
  },
  {
   "cell_type": "code",
   "execution_count": null,
   "metadata": {},
   "outputs": [],
   "source": [
    "nest[0]"
   ]
  },
  {
   "cell_type": "code",
   "execution_count": null,
   "metadata": {},
   "outputs": [],
   "source": [
    "nest[1]"
   ]
  },
  {
   "cell_type": "code",
   "execution_count": null,
   "metadata": {},
   "outputs": [],
   "source": [
    "nest[0][1]"
   ]
  },
  {
   "cell_type": "code",
   "execution_count": null,
   "metadata": {},
   "outputs": [],
   "source": [
    "nest[1][0]"
   ]
  },
  {
   "cell_type": "markdown",
   "metadata": {},
   "source": [
    "You can even mix different data types in the same list:"
   ]
  },
  {
   "cell_type": "code",
   "execution_count": 1,
   "metadata": {},
   "outputs": [],
   "source": [
    "mixed = [1,'Homer',[1,2,3]]"
   ]
  },
  {
   "cell_type": "code",
   "execution_count": 2,
   "metadata": {},
   "outputs": [
    {
     "data": {
      "text/plain": [
       "1"
      ]
     },
     "execution_count": 2,
     "metadata": {},
     "output_type": "execute_result"
    }
   ],
   "source": [
    "mixed[0]"
   ]
  },
  {
   "cell_type": "code",
   "execution_count": 3,
   "metadata": {},
   "outputs": [
    {
     "data": {
      "text/plain": [
       "'Homer'"
      ]
     },
     "execution_count": 3,
     "metadata": {},
     "output_type": "execute_result"
    }
   ],
   "source": [
    "mixed[1]"
   ]
  },
  {
   "cell_type": "code",
   "execution_count": 4,
   "metadata": {},
   "outputs": [
    {
     "data": {
      "text/plain": [
       "[1, 2, 3]"
      ]
     },
     "execution_count": 4,
     "metadata": {},
     "output_type": "execute_result"
    }
   ],
   "source": [
    "mixed[2]"
   ]
  },
  {
   "cell_type": "code",
   "execution_count": 5,
   "metadata": {},
   "outputs": [
    {
     "data": {
      "text/plain": [
       "2"
      ]
     },
     "execution_count": 5,
     "metadata": {},
     "output_type": "execute_result"
    }
   ],
   "source": [
    "mixed[2][1]"
   ]
  },
  {
   "cell_type": "code",
   "execution_count": 6,
   "metadata": {},
   "outputs": [
    {
     "data": {
      "text/plain": [
       "'H'"
      ]
     },
     "execution_count": 6,
     "metadata": {},
     "output_type": "execute_result"
    }
   ],
   "source": [
    "mixed[1][0]"
   ]
  },
  {
   "cell_type": "markdown",
   "metadata": {},
   "source": [
    "### Adding lists\n",
    "When working with lists, `+` operator just joins the lists together."
   ]
  },
  {
   "cell_type": "code",
   "execution_count": null,
   "metadata": {},
   "outputs": [],
   "source": [
    "a = [1,2,3]\n",
    "b = [4,5,6]"
   ]
  },
  {
   "cell_type": "code",
   "execution_count": null,
   "metadata": {},
   "outputs": [],
   "source": [
    "a+b"
   ]
  },
  {
   "cell_type": "markdown",
   "metadata": {},
   "source": [
    "But what if we wanted to create the vector sum instead, i.e. what if we wanted `a+b` to generate the list `[5,7,9]` ? For this purpose, NumPy provides a different data type, the \"NumPy Array\"."
   ]
  },
  {
   "cell_type": "markdown",
   "metadata": {},
   "source": [
    "## Numpy arrays"
   ]
  },
  {
   "cell_type": "markdown",
   "metadata": {},
   "source": [
    "If you want to perform numerical arithmetic on an array, the NumPy Array is more suitable than a list. Given that you have imported NumPy as `np` (like we did in the beginning of this notebook), you create a NumPy array like this:"
   ]
  },
  {
   "cell_type": "code",
   "execution_count": null,
   "metadata": {},
   "outputs": [],
   "source": [
    "a = np.array([1,2,3])\n",
    "b = np.array([4,5,6])"
   ]
  },
  {
   "cell_type": "code",
   "execution_count": null,
   "metadata": {},
   "outputs": [],
   "source": [
    "print(a)\n",
    "print(b)"
   ]
  },
  {
   "cell_type": "markdown",
   "metadata": {},
   "source": [
    "Now the `+` operator does not join the lists. Instead, it performs the addition element-wise."
   ]
  },
  {
   "cell_type": "code",
   "execution_count": null,
   "metadata": {},
   "outputs": [],
   "source": [
    "print(a+b)"
   ]
  },
  {
   "cell_type": "markdown",
   "metadata": {},
   "source": [
    "You can also perform other types of arithmetic operations. Run each cell below but try to guess first what the result will be."
   ]
  },
  {
   "cell_type": "code",
   "execution_count": null,
   "metadata": {},
   "outputs": [],
   "source": [
    "a-b"
   ]
  },
  {
   "cell_type": "code",
   "execution_count": null,
   "metadata": {},
   "outputs": [],
   "source": [
    "a*b"
   ]
  },
  {
   "cell_type": "code",
   "execution_count": null,
   "metadata": {},
   "outputs": [],
   "source": [
    "a**b"
   ]
  },
  {
   "cell_type": "code",
   "execution_count": null,
   "metadata": {},
   "outputs": [],
   "source": [
    "3*a"
   ]
  },
  {
   "cell_type": "code",
   "execution_count": null,
   "metadata": {},
   "outputs": [],
   "source": [
    "a+3"
   ]
  },
  {
   "cell_type": "markdown",
   "metadata": {},
   "source": [
    "## Plotting with Matplotlib\n",
    "Another useful function library is Matplotlib and its sub-library Pyplot, which provides basic functions for 2-dimensional plotting. Let's import it as `plt`:"
   ]
  },
  {
   "cell_type": "code",
   "execution_count": null,
   "metadata": {},
   "outputs": [],
   "source": [
    "import matplotlib.pyplot as plt"
   ]
  },
  {
   "cell_type": "markdown",
   "metadata": {},
   "source": [
    "### Plotting points\n",
    "\n",
    "The Matplotlib.Pyplot function that we will use most, is the `plot` function together with the `show` function. In its simplest form, it will allow you to plot points, e.g."
   ]
  },
  {
   "cell_type": "code",
   "execution_count": null,
   "metadata": {},
   "outputs": [],
   "source": [
    "plt.plot(1,2,'o')\n",
    "plt.show()"
   ]
  },
  {
   "cell_type": "markdown",
   "metadata": {},
   "source": [
    "The above cell plots the point $(1,2)$. The last argument `'o'` is called a 'format string' and this one tells pyplot to plot it as a big dot. You can try replacing the format string with the following different alternatives and see what happens: `'.'`, or `'x'`, or `'or'`, or `'og'` or other combinations. At the end of the following linked page you'll find some tables describing what you can do with format strings:\n",
    "https://matplotlib.org/3.1.1/api/_as_gen/matplotlib.pyplot.plot.html\n",
    "\n",
    "If you want to plot more than one point, we can put all the $x$-coordinates in a list or numpy array, and do the same with all the $y$-coorditates. For examplle, if we want to plot the points $(-1,1),(0,0),(1,1/2)$, we can do the following:"
   ]
  },
  {
   "cell_type": "code",
   "execution_count": null,
   "metadata": {},
   "outputs": [],
   "source": [
    "x=[-1,0,1]\n",
    "y=[1,0,1/2]\n",
    "plt.plot(x,y,'o')\n",
    "plt.show()"
   ]
  },
  {
   "cell_type": "markdown",
   "metadata": {},
   "source": [
    "If we don't specify how to draw the points (leave out the `'o'` argument), the default behaviour is to join the points with line segments instead:"
   ]
  },
  {
   "cell_type": "code",
   "execution_count": null,
   "metadata": {},
   "outputs": [],
   "source": [
    "plt.plot(x,y)\n",
    "plt.show()"
   ]
  },
  {
   "cell_type": "markdown",
   "metadata": {},
   "source": [
    "### Plotting a function\n",
    "\n",
    "Now, let's say we want to draw the graph of a function $f:[a,b]\\to\\mathbb{R}$. Since the graph of $f$ is the following set of points:\n",
    "\n",
    "$$G_f=\\{(x,f(x)):x\\in [a,b]\\},$$\n",
    "\n",
    "we can draw (an approximation of) the graph by creating one array with $x$-coordinates in $[a,b]$ and another array with the corresponding function values, then feed these ararys to the `plot` function.\n",
    "\n",
    "For this to work, we need a convenient way to create ararys with many points, and NumPy provides us with two useful functions, `linspace` and `arange`.\n",
    "\n",
    "#### numpy.linspace\n",
    "The NumPy function `linspace(a,b,n)` will create a numpy array with 'n' equally spaced numbers, starting with 'a' and ending with 'b'. Try this:"
   ]
  },
  {
   "cell_type": "code",
   "execution_count": null,
   "metadata": {},
   "outputs": [],
   "source": [
    "np.linspace(0,10,5)"
   ]
  },
  {
   "cell_type": "markdown",
   "metadata": {},
   "source": [
    "#### numpy.arange\n",
    "The NumPy function `arange(a,b,delta)` on the other hand, will create a numpy array of values in $[a,b)$, starting with `a` and separated by the distance `delta`:"
   ]
  },
  {
   "cell_type": "code",
   "execution_count": null,
   "metadata": {},
   "outputs": [],
   "source": [
    "np.arange(0,10,2.5)"
   ]
  },
  {
   "cell_type": "markdown",
   "metadata": {},
   "source": [
    "Now, let's say we want to plot the function $f(x)=x^3$ on the interval $[-1,1]$, so we create a numpy array with $x$-values and a corresponding array with the corresponding function values (which is possible since we can perform arithmetic on numpy arrays). Finally we feed both arrays to the `plot` function:"
   ]
  },
  {
   "cell_type": "code",
   "execution_count": null,
   "metadata": {},
   "outputs": [],
   "source": [
    "x=np.linspace(-1,1,10)\n",
    "y=x**3\n",
    "plt.plot(x,y)\n",
    "plt.show()   # Technically you don't need this line in the Jupyter environment, but the output is cleaner with it."
   ]
  },
  {
   "cell_type": "markdown",
   "metadata": {},
   "source": [
    "Hmm, that didn't look too great..., not very smooth. The reason is of course that we created our array `x` to only contain 10 values from -1 to 1 and ended up with only 10 points to plot (pyplot drew straight lines between these points). You should be able to make a better looking graph, simply by beefing up the number of points used to, say, 100 instead of 10. *Do that* and see how it works out!"
   ]
  },
  {
   "cell_type": "markdown",
   "metadata": {},
   "source": [
    "### Plotting a parametric curve\n",
    "\n",
    "Not all curves that we want to draw are conveniently expressed as the graph of a function. Say for example that we want to draw a circle with radius $r>0$ centred at $(0,0)$. The circle is *not* the graph of any function $f(x)$, since for all $x\\in (-r,r)$ there are *two* points on the circle with this $x$-coordinate, but a function of $x$ can only have *one* function value.\n",
    "\n",
    "On the other hand, such a circle can be conveniently expressed by the *parametric* equations\n",
    "\n",
    "$$x=r\\cos{t},\\quad y=r\\sin{t},\\quad t\\in [0,2\\pi].$$\n",
    "\n",
    "For each $t\\in [0,2\\pi]$ the point $(x,y)=(r\\cos t,r\\sin t)$ is a point on said circle and we will get all such points by letting $t$ range over the whole interval $[0,2\\pi]$. This is also easy to implement in Python. Let's say we want to draw a circle with radius $r=2$. We simply create an array `t` of tightly spaced points from $0$ to $2\\pi$, and use this to create the corresponding arrays `x` and `y`. Like so:"
   ]
  },
  {
   "cell_type": "code",
   "execution_count": null,
   "metadata": {},
   "outputs": [],
   "source": [
    "t = np.linspace(0,2*np.pi,500)\n",
    "x = 2*np.cos(t)\n",
    "y = 2*np.sin(t)\n",
    "plt.plot(x,y)\n",
    "plt.axis('equal')  # This is to make the aspect ratio 1:1. You can try removing this line if you want.\n",
    "plt.show()"
   ]
  },
  {
   "cell_type": "markdown",
   "metadata": {},
   "source": [
    "Tada!"
   ]
  },
  {
   "cell_type": "markdown",
   "metadata": {},
   "source": [
    "## `for`-loops"
   ]
  },
  {
   "cell_type": "markdown",
   "metadata": {},
   "source": [
    "Remember, that in the AE 1 introduction we created a function `addup` to calculate the sum\n",
    "$$\\sum_{k=1}^n k.$$\n",
    "\n",
    "We did it with a `while`-loop like this:\n",
    "\n",
    "    def addup(n) :\n",
    "        \"\"\" Adds all integers starting with 1 and ending with n \"\"\"\n",
    "        k=1\n",
    "        s=0\n",
    "        while k <= n :\n",
    "            s=s+k\n",
    "            k=k+1\n",
    "        return s\n",
    "    \n",
    "The reason we did this example with a `while`-loop, was just to teach you how such loops work (because that's what you needed for AE 1). However, this particular example would be easier to implement with a `for`-loop. The following code does exactly that:"
   ]
  },
  {
   "cell_type": "code",
   "execution_count": null,
   "metadata": {},
   "outputs": [],
   "source": [
    "def addup(n) :\n",
    "    \"\"\" Adds all integers starting with 1 and ending with n \"\"\"\n",
    "    s = 0\n",
    "    for k in range(1,n+1) :\n",
    "        s=s+k\n",
    "    return s"
   ]
  },
  {
   "cell_type": "markdown",
   "metadata": {},
   "source": [
    "Let's test it:"
   ]
  },
  {
   "cell_type": "code",
   "execution_count": null,
   "metadata": {},
   "outputs": [],
   "source": [
    "print(addup(1),addup(2),addup(3),addup(100))"
   ]
  },
  {
   "cell_type": "markdown",
   "metadata": {},
   "source": [
    "Ok, it seems to work as intended. But *how* does it work?"
   ]
  },
  {
   "cell_type": "markdown",
   "metadata": {},
   "source": [
    "### `for`-loops, general form\n",
    "A `for`-loop typically has the following structure (although some other variants are also possible in Python):\n",
    "\n",
    "\n",
    "    for <name> in <sequence> :\n",
    "        code block\n",
    "\n",
    "When encountering a `for`-loop, Python executes the code block repeatedly, once for every value of `<name>` in `<sequence>`.\n",
    "\n",
    "Ok, that probably didn't make much sense at all. Let's look at a few simple examples instead...\n",
    "\n",
    "`<sequence>` can be any kind of \"iterable\" object in Python. An example of an iterable is a list. Look at the code in the cell below and run it:"
   ]
  },
  {
   "cell_type": "code",
   "execution_count": null,
   "metadata": {},
   "outputs": [],
   "source": [
    "simpsons = ['Homer','Marge','Bart','Lisa','Maggie']\n",
    "for k in simpsons :\n",
    "    print(k+' Simpson')"
   ]
  },
  {
   "cell_type": "markdown",
   "metadata": {},
   "source": [
    "The code above first defines a `list` object called `simpsons`, containing five strings with the names of each Simpson family member.\n",
    "\n",
    "Next is a `for` loop, which executes the function call `print(k+' Simpson')`, once for every value of `k` in the `simpsons` list. In other words, the `for`-loop above becomes a shorthand for the following code:\n",
    "\n",
    "    print('Homer'+' Simpson')\n",
    "    print('Marge'+' Simpson')\n",
    "    print('Bart'+' Simpson')\n",
    "    print('Lisa'+' Simpson')\n",
    "    print('Maggie'+' Simpson')\n",
    "\n",
    "#### `range` objects\n",
    "\n",
    "Another common type of iterable, besides lists, is the `range`-object, which can be created with the `range` function. The function call `range(n)` will create an iterable sequence of integers, starting with `0` and ending with `n-1`. The following code illustrates it simply:"
   ]
  },
  {
   "cell_type": "code",
   "execution_count": null,
   "metadata": {},
   "outputs": [],
   "source": [
    "for k in range(5) :\n",
    "    print(k)"
   ]
  },
  {
   "cell_type": "markdown",
   "metadata": {},
   "source": [
    "*Note* that the last value of `k` is `4`, not `5`. If you want to start with some integer different from `0`, then `range(m,n)` will give you a sequence starting with `m` and ending with `n-1', e.g."
   ]
  },
  {
   "cell_type": "code",
   "execution_count": null,
   "metadata": {},
   "outputs": [],
   "source": [
    "for k in range(2,5) :\n",
    "    print(k)"
   ]
  },
  {
   "cell_type": "markdown",
   "metadata": {},
   "source": [
    "Now you know enough to understand how our first example, our simplified `addup` function, works:\n",
    "\n",
    "    def addup(n) :\n",
    "        \"\"\" Adds all integers starting with 1 and ending with n \"\"\"\n",
    "        s = 0\n",
    "        for k in range(1,n+1) :\n",
    "            s=s+k\n",
    "        return s\n",
    "\n",
    "Read the code above and make sure you understand it. A bit easier than using a `while`-loop, right?"
   ]
  },
  {
   "cell_type": "markdown",
   "metadata": {},
   "source": [
    "## Last example\n",
    "\n",
    "As a final example we will put together most of what you've learned in this notebook, and also illustrate how you can customize the look of plots.\n",
    "\n",
    "You will later learn (or you might already know) that for all $x\\in\\mathbb{R}$, we have\n",
    "\n",
    "$$\\sin{x}=\\lim_{n\\to\\infty}\\sum_{k=0}^n (-1)^k\\frac{x^{2k+1}}{(2k+1)!}.$$\n",
    "In other words, we can *approximate* $\\sin{x}$ by calculating the sum $\\sum_{k=0}^n (-1)^k\\frac{x^{2k+1}}{(2k+1)!}$ for a large value of $n$. Let's do that and see how it works out. \n",
    "\n",
    "First, we define a function `sinish(x,n)` which takes `x` and `n` as arguments and returns the value of the sum above."
   ]
  },
  {
   "cell_type": "code",
   "execution_count": null,
   "metadata": {},
   "outputs": [],
   "source": [
    "def sinish(x,n) :\n",
    "    s = 0\n",
    "    for k in range(n+1) :\n",
    "        s=s+(-1)**k*x**(2*k+1)/np.math.factorial(2*k+1)\n",
    "    return s"
   ]
  },
  {
   "cell_type": "markdown",
   "metadata": {},
   "source": [
    "(The factorial function is a bit hidden away in Python, but is found the numpy.math library)\n",
    "\n",
    "Next, let's plot the $\\sin$ function as provided by `np.sin`, together with our function `sinish` for `n=2` and `n=4`, i.e.\n",
    "\n",
    "$$x-\\frac{x^3}{3!}+\\frac{x^5}{5!}$$\n",
    "and\n",
    "$$x-\\frac{x^3}{3!}+\\frac{x^5}{5!}-\\frac{x^7}{7!}+\\frac{x^9}{9!}$$\n",
    "\n",
    "on the interval $[-2\\pi,2\\pi]$."
   ]
  },
  {
   "cell_type": "code",
   "execution_count": null,
   "metadata": {},
   "outputs": [],
   "source": [
    "x = np.linspace(-2*np.pi,2*np.pi,1000)\n",
    "y2 = sinish(x,2)\n",
    "y4 = sinish(x,4)\n",
    "ysin = np.sin(x)\n",
    "plt.plot(x,y2,label='y=sinish(x,2)') # These three lines add labels to each graph\n",
    "plt.plot(x,y4,label='y=sinish(x,4)')\n",
    "plt.plot(x,ysin,label='y=np.sin(x)')\n",
    "plt.legend()  # This line makes sure that the labels are displayed\n",
    "plt.ylim([-2,2]) # This line restricts the y-axis\n",
    "plt.title('Comparing sin with some approximations')  # Let's also have a title\n",
    "plt.show()"
   ]
  },
  {
   "cell_type": "code",
   "execution_count": null,
   "metadata": {},
   "outputs": [],
   "source": []
  }
 ],
 "metadata": {
  "kernelspec": {
   "display_name": "Python 3 (ipykernel)",
   "language": "python",
   "name": "python3"
  },
  "language_info": {
   "codemirror_mode": {
    "name": "ipython",
    "version": 3
   },
   "file_extension": ".py",
   "mimetype": "text/x-python",
   "name": "python",
   "nbconvert_exporter": "python",
   "pygments_lexer": "ipython3",
   "version": "3.9.0"
  }
 },
 "nbformat": 4,
 "nbformat_minor": 2
}
